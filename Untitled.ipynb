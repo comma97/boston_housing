{
 "cells": [
  {
   "cell_type": "code",
   "execution_count": 2,
   "metadata": {},
   "outputs": [
    {
     "ename": "ImportError",
     "evalue": "cannot import name 'joblib' from 'sklearn.externals' (F:\\aahh\\lib\\site-packages\\sklearn\\externals\\__init__.py)",
     "output_type": "error",
     "traceback": [
      "\u001b[1;31m---------------------------------------------------------------------------\u001b[0m",
      "\u001b[1;31mImportError\u001b[0m                               Traceback (most recent call last)",
      "\u001b[1;32m<ipython-input-2-4f8b1533d22e>\u001b[0m in \u001b[0;36m<module>\u001b[1;34m\u001b[0m\n\u001b[0;32m      4\u001b[0m \u001b[1;32mfrom\u001b[0m \u001b[0msklearn\u001b[0m\u001b[1;33m.\u001b[0m\u001b[0mpreprocessing\u001b[0m \u001b[1;32mimport\u001b[0m \u001b[0mStandardScaler\u001b[0m\u001b[1;33m\u001b[0m\u001b[1;33m\u001b[0m\u001b[0m\n\u001b[0;32m      5\u001b[0m \u001b[1;32mfrom\u001b[0m \u001b[0msklearn\u001b[0m\u001b[1;33m.\u001b[0m\u001b[0mmetrics\u001b[0m \u001b[1;32mimport\u001b[0m \u001b[0mmean_squared_error\u001b[0m\u001b[1;33m\u001b[0m\u001b[1;33m\u001b[0m\u001b[0m\n\u001b[1;32m----> 6\u001b[1;33m \u001b[1;32mfrom\u001b[0m \u001b[0msklearn\u001b[0m\u001b[1;33m.\u001b[0m\u001b[0mexternals\u001b[0m \u001b[1;32mimport\u001b[0m \u001b[0mjoblib\u001b[0m\u001b[1;33m\u001b[0m\u001b[1;33m\u001b[0m\u001b[0m\n\u001b[0m\u001b[0;32m      7\u001b[0m \u001b[1;33m\u001b[0m\u001b[0m\n\u001b[0;32m      8\u001b[0m \u001b[1;32mdef\u001b[0m \u001b[0mboston_line\u001b[0m\u001b[1;33m(\u001b[0m\u001b[1;33m)\u001b[0m\u001b[1;33m:\u001b[0m\u001b[1;33m\u001b[0m\u001b[1;33m\u001b[0m\u001b[0m\n",
      "\u001b[1;31mImportError\u001b[0m: cannot import name 'joblib' from 'sklearn.externals' (F:\\aahh\\lib\\site-packages\\sklearn\\externals\\__init__.py)"
     ]
    }
   ],
   "source": [
    "from sklearn.linear_model import LinearRegression, SGDRegressor, Ridge, LogisticRegression\n",
    "from sklearn.datasets import load_boston\n",
    "from sklearn.model_selection import train_test_split\n",
    "from sklearn.preprocessing import StandardScaler\n",
    "from sklearn.metrics import mean_squared_error\n",
    "from sklearn.externals import joblib\n",
    "\n",
    "def boston_line():\n",
    "\n",
    "    lb = load_boston()\n",
    "    x_train, x_test, y_train, y_test = train_test_split(lb.data, lb.target, test_size=0.25)\n",
    "\n",
    "    # 为数据增加一个维度,相当于把[1, 5, 10] 变成 [[1, 5, 10],]\n",
    "    y_train = y_train.reshape(-1, 1)\n",
    "    y_test = y_test.reshape(-1, 1)\n",
    "\n",
    "    # 进行标准化\n",
    "    std_x = StandardScaler()\n",
    "    x_train = std_x.fit_transform(x_train)\n",
    "    x_test = std_x.transform(x_test)\n",
    "\n",
    "    std_y = StandardScaler()\n",
    "    y_train = std_y.fit_transform(y_train)\n",
    "    y_test = std_y.transform(y_test)\n",
    "\n",
    "    # 正规方程预测\n",
    "    lr = LinearRegression()\n",
    "    lr.fit(x_train, y_train)\n",
    "    lr_predict = std_y.inverse_transform(lr.predict(x_test))\n",
    "    print(\"正规方程预测出的系数为:\", lr.coef_)\n",
    "    # 计算均方误差参数必须使用标准化之前的值\n",
    "    print(\"正规方程的均方误差为:\", mean_squared_error(std_y.inverse_transform(y_test),lr_predict))\n",
    "    print(\"正规方程预测出的结果为:\", lr_predict)\n",
    "\n",
    "\n",
    "    # 梯度下降预测\n",
    "    sgd = SGDRegressor()\n",
    "    sgd.fit(x_train, y_train)\n",
    "    sgd_predict = std_y.inverse_transform(sgd.predict(x_test))\n",
    "    print(\"梯度下降预测出的系数为:\", sgd.coef_)\n",
    "    # 计算均方误差参数必须使用标准化之前的值\n",
    "    print(\"梯度下降的均方误差为:\", mean_squared_error(std_y.inverse_transform(y_test),sgd_predict))\n",
    "    print(\"梯度下降预测出的结果为:\", sgd_predict)\n",
    "\n",
    "\n",
    "    # 岭回归下降预测(alpha为正则化力度, 数值越大,特征对最后的结果影响越小)\n",
    "    rid = Ridge(alpha=1.0)\n",
    "    rid.fit(x_train, y_train)\n",
    "    rid_predict = std_y.inverse_transform(rid.predict(x_test))\n",
    "    print(\"岭回归预测出的系数为:\", rid.coef_)\n",
    "    # 计算均方误差参数必须使用标准化之前的值\n",
    "    print(\"岭回归的均方误差为:\", mean_squared_error(std_y.inverse_transform(y_test),rid_predict))\n",
    "    print(\"岭回归预测出的结果为:\", rid_predict)\n",
    "\n",
    "\n",
    "    # 保存岭回归的模型(pkl格式)\n",
    "    joblib.dump(rid, \"./rid_model.pkl\")\n",
    "\n",
    "    # 加载岭回归的模型\n",
    "\n",
    "    new_rid = joblib.load(\"./rid_model.pkl\")\n",
    "    new_rid_predict = std_y.inverse_transform(new_rid.predict(x_test))\n",
    "    print(\"模型-->岭回归预测出的系数为:\", rid.coef_)\n",
    "    # 计算均方误差参数必须使用标准化之前的值\n",
    "    print(\"模型-->岭回归的均方误差为:\", mean_squared_error(std_y.inverse_transform(y_test),new_rid_predict))\n",
    "    print(\"模型-->岭回归预测出的结果为:\", new_rid_predict)\n",
    "\n",
    "if __name__ == '__main__':\n",
    "    boston_line()"
   ]
  },
  {
   "cell_type": "code",
   "execution_count": null,
   "metadata": {},
   "outputs": [],
   "source": []
  }
 ],
 "metadata": {
  "kernelspec": {
   "display_name": "Python 3",
   "language": "python",
   "name": "python3"
  },
  "language_info": {
   "codemirror_mode": {
    "name": "ipython",
    "version": 3
   },
   "file_extension": ".py",
   "mimetype": "text/x-python",
   "name": "python",
   "nbconvert_exporter": "python",
   "pygments_lexer": "ipython3",
   "version": "3.8.3"
  }
 },
 "nbformat": 4,
 "nbformat_minor": 4
}
